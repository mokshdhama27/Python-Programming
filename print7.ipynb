{
  "nbformat": 4,
  "nbformat_minor": 0,
  "metadata": {
    "colab": {
      "name": "Untitled1.ipynb",
      "provenance": [],
      "authorship_tag": "ABX9TyNbrI245e2sApst5ks8MzA9",
      "include_colab_link": true
    },
    "kernelspec": {
      "name": "python3",
      "display_name": "Python 3"
    }
  },
  "cells": [
    {
      "cell_type": "markdown",
      "metadata": {
        "id": "view-in-github",
        "colab_type": "text"
      },
      "source": [
        "<a href=\"https://colab.research.google.com/github/mokshdhama27/Python-Programming/blob/master/print7.ipynb\" target=\"_parent\"><img src=\"https://colab.research.google.com/assets/colab-badge.svg\" alt=\"Open In Colab\"/></a>"
      ]
    },
    {
      "cell_type": "code",
      "metadata": {
        "id": "R_29c_CF32Hh",
        "colab_type": "code",
        "colab": {
          "base_uri": "https://localhost:8080/",
          "height": 101
        },
        "outputId": "d970833e-be8a-4786-a67a-8a8a58eac97e"
      },
      "source": [
        "#Will be using formatter function today\n",
        "formatter=\"{} {} {} {}\"\n",
        "#printing with the help of formatter function \n",
        "print(formatter.format(1,2,3,4))\n",
        "print(formatter.format(\"lets\", \"talk\",\"today\",\"here\"))\n",
        "print(formatter.format(True,False,True,False))\n",
        "print(formatter.format(\n",
        "      \"jo mene tumhe dekha\",\n",
        "      \"jo mene tumhe jana\",\n",
        "      \"jo hosh tha wo hogya\",\n",
        "      \"badan ki khushbo\"))\n",
        "print(formatter.format(formatter,formatter,formatter,formatter))\n"
      ],
      "execution_count": 1,
      "outputs": [
        {
          "output_type": "stream",
          "text": [
            "1 2 3 4\n",
            "lets talk today here\n",
            "True False True False\n",
            "jo mene tumhe dekha jo mene tumhe jana jo hosh tha wo hogya badan ki khushbo\n",
            "{} {} {} {} {} {} {} {} {} {} {} {} {} {} {} {}\n"
          ],
          "name": "stdout"
        }
      ]
    }
  ]
}