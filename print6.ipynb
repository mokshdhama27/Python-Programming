{
  "nbformat": 4,
  "nbformat_minor": 0,
  "metadata": {
    "colab": {
      "name": "Untitled0.ipynb",
      "provenance": [],
      "include_colab_link": true
    },
    "kernelspec": {
      "name": "python3",
      "display_name": "Python 3"
    }
  },
  "cells": [
    {
      "cell_type": "markdown",
      "metadata": {
        "id": "view-in-github",
        "colab_type": "text"
      },
      "source": [
        "<a href=\"https://colab.research.google.com/github/mokshdhama27/Python-Programming/blob/master/print6.ipynb\" target=\"_parent\"><img src=\"https://colab.research.google.com/assets/colab-badge.svg\" alt=\"Open In Colab\"/></a>"
      ]
    },
    {
      "cell_type": "code",
      "metadata": {
        "id": "_UomxK9U0pTp",
        "colab_type": "code",
        "colab": {
          "base_uri": "https://localhost:8080/",
          "height": 101
        },
        "outputId": "bcef7d30-6a71-4445-e54c-8a89f64c12a8"
      },
      "source": [
        "# IN this program we will be usin format function to turn formatter variable into other string\n",
        "\n",
        "formatter = \" {} {} {} {} {}\"\n",
        "\n",
        "print(formatter.format(1,2,3,4,5))\n",
        "print(formatter.format(\"hi\",\"bye\",\"love\",\"hate\",\"loser\"))\n",
        "print(formatter.format(True,False ,False ,True ,True))\n",
        "print(formatter.format(formatter,formatter,formatter,formatter,formatter))\n",
        "print(formatter.format(\n",
        "    \"Hi how are you\",\n",
        "    \"What would you like to have\",\n",
        "    \"tea coffee juice\",\n",
        "    \"here are some fruits\",\n",
        "    \"pleae have it\"))\n"
      ],
      "execution_count": 1,
      "outputs": [
        {
          "output_type": "stream",
          "text": [
            " 1 2 3 4 5\n",
            " hi bye love hate loser\n",
            " True False False True True\n",
            "  {} {} {} {} {}  {} {} {} {} {}  {} {} {} {} {}  {} {} {} {} {}  {} {} {} {} {}\n",
            " Hi how are you What would you like to have tea coffee juice here are some fruits pleae have it\n"
          ],
          "name": "stdout"
        }
      ]
    }
  ]
}